{
 "cells": [
  {
   "cell_type": "markdown",
   "id": "f450b570",
   "metadata": {},
   "source": [
    "# Assignment # 01 (DS)\n",
    "\n",
    "# Q:01  Write a python program to print the given string in specific format?"
   ]
  },
  {
   "cell_type": "code",
   "execution_count": 1,
   "id": "0f74cf6e",
   "metadata": {},
   "outputs": [
    {
     "name": "stdout",
     "output_type": "stream",
     "text": [
      "Twinkle, twinkle, little star,\n",
      "         How i Wonder what you are\n",
      "                 Up above the world so high,\n",
      "                 Like a diamond in the sky.\n",
      "Twinkle, twinkle, little star,\n",
      "         How i Wonder what you are\n"
     ]
    }
   ],
   "source": [
    "print('Twinkle, twinkle, little star,')\n",
    "print('         How i Wonder what you are')\n",
    "print('                 Up above the world so high,')\n",
    "print('                 Like a diamond in the sky.')\n",
    "print('Twinkle, twinkle, little star,')\n",
    "print('         How i Wonder what you are')"
   ]
  },
  {
   "cell_type": "markdown",
   "id": "dc43ad6e",
   "metadata": {},
   "source": [
    "# Q:02 Write a python program to get the python version you are using?"
   ]
  },
  {
   "cell_type": "code",
   "execution_count": 2,
   "id": "06348ad9",
   "metadata": {},
   "outputs": [
    {
     "name": "stdout",
     "output_type": "stream",
     "text": [
      "3.8.8 (default, Apr 13 2021, 15:08:03) [MSC v.1916 64 bit (AMD64)]\n"
     ]
    }
   ],
   "source": [
    "import sys\n",
    "print(sys.version)"
   ]
  },
  {
   "cell_type": "markdown",
   "id": "8356eba9",
   "metadata": {},
   "source": [
    "# Q:03 Write a python program to display the current date and time?"
   ]
  },
  {
   "cell_type": "code",
   "execution_count": 7,
   "id": "cb0aa3be",
   "metadata": {},
   "outputs": [
    {
     "name": "stdout",
     "output_type": "stream",
     "text": [
      "current_datetime: 2021-12-30 10:31:49.245007\n"
     ]
    }
   ],
   "source": [
    "from datetime import datetime\n",
    "\n",
    "\n",
    "current_datetime =datetime.now()\n",
    "print(\"current_datetime:\", current_datetime)\n"
   ]
  },
  {
   "cell_type": "markdown",
   "id": "e49ab672",
   "metadata": {},
   "source": [
    "# Q:04 Write a python program which accept the radius of a circle from the user and compute the area? "
   ]
  },
  {
   "cell_type": "code",
   "execution_count": 4,
   "id": "ebbefca2",
   "metadata": {},
   "outputs": [
    {
     "name": "stdout",
     "output_type": "stream",
     "text": [
      "radius of a circle:3.4\n",
      "area of a circle: 36.316811075498\n"
     ]
    }
   ],
   "source": [
    "r = float(input('radius of a circle:'))\n",
    "import math\n",
    "frml = math.pi* r **2   #pi=22/7\n",
    "print('area of a circle:' , frml) "
   ]
  },
  {
   "cell_type": "markdown",
   "id": "a28464f5",
   "metadata": {},
   "source": [
    "# Q:5 Write a python program which accepts the user's first and last name and print them in revers order with space between them?"
   ]
  },
  {
   "cell_type": "code",
   "execution_count": 5,
   "id": "0c453c39",
   "metadata": {},
   "outputs": [
    {
     "name": "stdout",
     "output_type": "stream",
     "text": [
      "first name: muhammad\n",
      "last name: ahmed\n",
      "name: ahmed muhammad\n"
     ]
    }
   ],
   "source": [
    "name_1 = input('first name: ') \n",
    "name_2 = input('last name: ')\n",
    "print('name:' , name_2 + ' ' + name_1)"
   ]
  },
  {
   "cell_type": "markdown",
   "id": "c1446ee3",
   "metadata": {},
   "source": [
    "# Q:6 Write a python program which takes two input from user and print them addition?"
   ]
  },
  {
   "cell_type": "code",
   "execution_count": 6,
   "id": "5ffaff98",
   "metadata": {
    "scrolled": true
   },
   "outputs": [
    {
     "name": "stdout",
     "output_type": "stream",
     "text": [
      "233\n",
      "343\n",
      "addition: 576\n"
     ]
    }
   ],
   "source": [
    "n1=int(input( ))\n",
    "n2=int(input( ))\n",
    "print('addition:' , n1+n2)"
   ]
  }
 ],
 "metadata": {
  "kernelspec": {
   "display_name": "Python 3",
   "language": "python",
   "name": "python3"
  },
  "language_info": {
   "codemirror_mode": {
    "name": "ipython",
    "version": 3
   },
   "file_extension": ".py",
   "mimetype": "text/x-python",
   "name": "python",
   "nbconvert_exporter": "python",
   "pygments_lexer": "ipython3",
   "version": "3.8.8"
  }
 },
 "nbformat": 4,
 "nbformat_minor": 5
}
